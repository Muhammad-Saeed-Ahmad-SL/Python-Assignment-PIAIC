{
 "cells": [
  {
   "cell_type": "markdown",
   "metadata": {},
   "source": [
    "## Question 1: Ticket Pricing System"
   ]
  },
  {
   "cell_type": "code",
   "execution_count": 3,
   "metadata": {},
   "outputs": [
    {
     "name": "stdout",
     "output_type": "stream",
     "text": [
      "Ticket Price: $20\n"
     ]
    }
   ],
   "source": [
    "age = int(input(\"Enter your age: \"))\n",
    "if age < 5:\n",
    "    price = 0\n",
    "elif 5 <= age <= 17:\n",
    "    price = 10\n",
    "elif 18 <= age <= 60:\n",
    "    price = 20\n",
    "else:\n",
    "    price = 10\n",
    "\n",
    "print(f\"Ticket Price: ${price}\")"
   ]
  },
  {
   "cell_type": "markdown",
   "metadata": {},
   "source": [
    "## Question 2: Meal Recommendation"
   ]
  },
  {
   "cell_type": "code",
   "execution_count": 6,
   "metadata": {},
   "outputs": [
    {
     "name": "stdout",
     "output_type": "stream",
     "text": [
      "It's time for Late-night Snack\n"
     ]
    }
   ],
   "source": [
    "time = int(input(\"Enter the time (24-hour format): \"))\n",
    "if 5<= time <= 11:\n",
    "    meal = \"Breakfast\"\n",
    "elif 12 <= time <= 16:\n",
    "    meal = 'Launch'\n",
    "elif 17 <= time <= 21:\n",
    "    meal = \"Dinner\"\n",
    "else:\n",
    "    meal = \"Late-night Snack\"\n",
    "print(f\"It's time for {meal}\")"
   ]
  },
  {
   "cell_type": "markdown",
   "metadata": {},
   "source": [
    "## Question 3: Grocery Bill Calculator"
   ]
  },
  {
   "cell_type": "code",
   "execution_count": 10,
   "metadata": {},
   "outputs": [
    {
     "name": "stdout",
     "output_type": "stream",
     "text": [
      "Total Bill: 263.0\n",
      "Discounted Total: $236.70000000000002\n"
     ]
    }
   ],
   "source": [
    "prices = [float(input(f\"Enter price of item {i+1}: \")) for i in range(5)]\n",
    "total_bill = sum(prices)\n",
    "if total_bill > 100:\n",
    "    discounted_total = total_bill * 0.9\n",
    "    print(f\"Total Bill: {total_bill}\")\n",
    "    print(f\"Discounted Total: ${discounted_total}\")\n",
    "else:\n",
    "    print(f\"Total Bill: ${total_bill}\")"
   ]
  },
  {
   "cell_type": "markdown",
   "metadata": {},
   "source": [
    "## Question 4: Username Validator"
   ]
  },
  {
   "cell_type": "code",
   "execution_count": 12,
   "metadata": {},
   "outputs": [
    {
     "name": "stdout",
     "output_type": "stream",
     "text": [
      "Valid username\n"
     ]
    }
   ],
   "source": [
    "username = input('Enter a username: ')\n",
    "if 5<= len(username) <= 15 and username[0].isalpha():\n",
    "    print(\"Valid username\")\n",
    "else:\n",
    "    print(\"Invalid username\")"
   ]
  },
  {
   "cell_type": "markdown",
   "metadata": {},
   "source": [
    "## Question 5: Travel Destination Suggestion"
   ]
  },
  {
   "cell_type": "code",
   "execution_count": 13,
   "metadata": {},
   "outputs": [
    {
     "name": "stdout",
     "output_type": "stream",
     "text": [
      "Time for a ski trip!\n"
     ]
    }
   ],
   "source": [
    "weather = input(\"Enter your preferred weather (Sunny, Rainy, Snowy): \").capitalize()\n",
    "if weather == \"Sunny\":\n",
    "     suggestion = \"Go to the beach!\"\n",
    "elif weather == \"Rainy\":\n",
    "    suggestion = \"Visit a cozy mountain lodge!\"\n",
    "elif weather == \"Snowy\":\n",
    "    suggestion = \"Time for a ski trip!\"\n",
    "else:\n",
    "    suggestion = \"Invalid input\"\n",
    "print(suggestion)"
   ]
  },
  {
   "cell_type": "markdown",
   "metadata": {},
   "source": [
    "## Question 6: Discount Eligibility Checker"
   ]
  },
  {
   "cell_type": "code",
   "execution_count": 18,
   "metadata": {},
   "outputs": [
    {
     "name": "stdout",
     "output_type": "stream",
     "text": [
      "Eligible for a discount\n"
     ]
    }
   ],
   "source": [
    "total_spent = float(input(\"Enter the total amount spent: \"))\n",
    "loyalty_member = input(\"Are you a loyalty member? (Yes/No): \").strip().lower()\n",
    "if total_spent > 200 or loyalty_member == \"yes\":\n",
    "    print(\"Eligible for a discount\")\n",
    "else:\n",
    "    print(\"Not eligible for a discount\")"
   ]
  },
  {
   "cell_type": "markdown",
   "metadata": {},
   "source": [
    "## Question 7: Event Invitation"
   ]
  },
  {
   "cell_type": "code",
   "execution_count": 19,
   "metadata": {},
   "outputs": [
    {
     "name": "stdout",
     "output_type": "stream",
     "text": [
      "You are invited!\n"
     ]
    }
   ],
   "source": [
    "guests = [\"Alice\", \"Bob\", \"Charlie\", \"David\", \"Eve\"]\n",
    "user_name = input(\"Enter your name: \")\n",
    "if user_name in guests:\n",
    "    print(\"You are invited!\")\n",
    "else:\n",
    "    print(\"You are not invited.\")\n"
   ]
  },
  {
   "cell_type": "markdown",
   "metadata": {},
   "source": [
    "## Question 8: Movie Streaming Eligibility"
   ]
  },
  {
   "cell_type": "code",
   "execution_count": 20,
   "metadata": {},
   "outputs": [
    {
     "name": "stdout",
     "output_type": "stream",
     "text": [
      "You can watch Action Movies\n"
     ]
    }
   ],
   "source": [
    "age = int(input(\"Enter your age: \"))\n",
    "movie_type = input(\"Enter the movie type (Action Movies, Animated Movies, Documentaries): \").strip()\n",
    "if movie_type == \"Action Movies\" and age >= 18:\n",
    "    print(\"You can watch Action Movies\")\n",
    "elif movie_type == \"Animated Movies\":\n",
    "    print(\"You can watch Animated Movies\")\n",
    "elif movie_type == \"Documentaries\" and age >= 12:\n",
    "    print(\"You can watch Documentaries\")\n",
    "else:\n",
    "    print(f\"You cannot watch {movie_type}\")"
   ]
  },
  {
   "cell_type": "markdown",
   "metadata": {},
   "source": [
    "## Question 9: Phone Number Formatter"
   ]
  },
  {
   "cell_type": "code",
   "execution_count": 22,
   "metadata": {},
   "outputs": [
    {
     "name": "stdout",
     "output_type": "stream",
     "text": [
      "Formatted Phone Number: (032) 343-12405\n"
     ]
    }
   ],
   "source": [
    "phone_number = input(\"Enter your phone number (10 digits): \")\n",
    "formatted_number = f\"({phone_number[:3]}) {phone_number[3:6]}-{phone_number[6:]}\"\n",
    "print(f\"Formatted Phone Number: {formatted_number}\")"
   ]
  },
  {
   "cell_type": "markdown",
   "metadata": {},
   "source": [
    "## Question 10: Package Shipping Cost"
   ]
  },
  {
   "cell_type": "code",
   "execution_count": 23,
   "metadata": {},
   "outputs": [
    {
     "name": "stdout",
     "output_type": "stream",
     "text": [
      "Shipping Cost: $20\n"
     ]
    }
   ],
   "source": [
    "weight = float(input(\"Enter the package weight (kg): \"))\n",
    "if weight <= 1:\n",
    "    cost = 5\n",
    "elif 1 < weight <= 5:\n",
    "    cost = 10\n",
    "elif 5 < weight <= 20:\n",
    "    cost = 20\n",
    "else:\n",
    "    cost = 50\n",
    "print(f\"Shipping Cost: ${cost}\")"
   ]
  },
  {
   "cell_type": "markdown",
   "metadata": {},
   "source": [
    "## Question 11: Student Grading System"
   ]
  },
  {
   "cell_type": "code",
   "execution_count": 26,
   "metadata": {},
   "outputs": [
    {
     "name": "stdout",
     "output_type": "stream",
     "text": [
      "Total Marks: 500\n",
      "Percentage: 100.00%\n",
      "Grade: A\n",
      "Result: Passed\n"
     ]
    }
   ],
   "source": [
    "marks = [int(input(f\"Enter marks for subject {i+1}: \")) for i in range(5)]\n",
    "total_marks = sum(marks)\n",
    "percentage = (total_marks / 500) * 100\n",
    "\n",
    "if percentage >= 90:\n",
    "    grade = \"A\"\n",
    "elif 80 <= percentage < 90:\n",
    "    grade = \"B\"\n",
    "elif 70 <= percentage < 80:\n",
    "    grade = \"C\"\n",
    "elif 60 <= percentage < 70:\n",
    "    grade = \"D\"\n",
    "else:\n",
    "    grade = \"F\"\n",
    "\n",
    "if all(mark >= 60 for mark in marks):\n",
    "    result = \"Passed\"\n",
    "else:\n",
    "    result = \"Failed\"\n",
    "\n",
    "print(f\"Total Marks: {total_marks}\")\n",
    "print(f\"Percentage: {percentage:.2f}%\")\n",
    "print(f\"Grade: {grade}\")\n",
    "print(f\"Result: {result}\")"
   ]
  }
 ],
 "metadata": {
  "kernelspec": {
   "display_name": "Python 3",
   "language": "python",
   "name": "python3"
  },
  "language_info": {
   "codemirror_mode": {
    "name": "ipython",
    "version": 3
   },
   "file_extension": ".py",
   "mimetype": "text/x-python",
   "name": "python",
   "nbconvert_exporter": "python",
   "pygments_lexer": "ipython3",
   "version": "3.12.8"
  }
 },
 "nbformat": 4,
 "nbformat_minor": 2
}
