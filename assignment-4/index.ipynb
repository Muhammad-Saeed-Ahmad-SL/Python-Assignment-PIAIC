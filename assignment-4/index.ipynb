{
 "cells": [
  {
   "cell_type": "markdown",
   "metadata": {},
   "source": [
    "# Python List Exercises"
   ]
  },
  {
   "cell_type": "markdown",
   "metadata": {},
   "source": [
    "## Exercise 3-1: Names"
   ]
  },
  {
   "cell_type": "code",
   "execution_count": 46,
   "metadata": {},
   "outputs": [
    {
     "name": "stdout",
     "output_type": "stream",
     "text": [
      "Adeel\n",
      "Sohaib\n",
      "Haris\n",
      "Furqan\n"
     ]
    }
   ],
   "source": [
    "# Store names of friends in a list\n",
    "names = [\"Adeel\", \"Sohaib\", \"Haris\",\"Furqan\"]\n",
    "\n",
    "# Print each name one by one\n",
    "print(names[0])\n",
    "print(names[1])\n",
    "print(names[2])\n",
    "print(names[3])\n"
   ]
  },
  {
   "cell_type": "markdown",
   "metadata": {},
   "source": [
    "## Exercise 3-2: Greetings"
   ]
  },
  {
   "cell_type": "code",
   "execution_count": 47,
   "metadata": {},
   "outputs": [
    {
     "name": "stdout",
     "output_type": "stream",
     "text": [
      "Hello, Adeel! How are you today?\n",
      "Hello, Sohaib! How are you today?\n",
      "Hello, Haris! How are you today?\n",
      "Hello, Furqan! How are you today?\n"
     ]
    }
   ],
   "source": [
    "for name in names:\n",
    "    print(f\"Hello, {name}! How are you today?\")\n"
   ]
  },
  {
   "cell_type": "markdown",
   "metadata": {},
   "source": [
    "## Exercise 3-3: Your Own List"
   ]
  },
  {
   "cell_type": "code",
   "execution_count": 48,
   "metadata": {},
   "outputs": [
    {
     "name": "stdout",
     "output_type": "stream",
     "text": [
      "I would like to own a Honda motorcycle.\n",
      "I would like to own a Tesla Model S.\n",
      "I would like to own a Yamaha bike.\n",
      "I would like to own a BMW sports car.\n"
     ]
    }
   ],
   "source": [
    "# List of favorite modes of transportation\n",
    "vehicles = [\"Honda motorcycle\", \"Tesla Model S\", \"Yamaha bike\", \"BMW sports car\"]\n",
    "\n",
    "# Print statements about each vehicle\n",
    "for vehicle in vehicles:\n",
    "    print(f\"I would like to own a {vehicle}.\")\n"
   ]
  },
  {
   "cell_type": "markdown",
   "metadata": {},
   "source": [
    "## Exercise 3-4: Guest List"
   ]
  },
  {
   "cell_type": "code",
   "execution_count": 49,
   "metadata": {},
   "outputs": [
    {
     "name": "stdout",
     "output_type": "stream",
     "text": [
      "Dear Einstein, you are cordially invited to dinner.\n",
      "Dear Nikola Tesla, you are cordially invited to dinner.\n",
      "Dear Da Vinci, you are cordially invited to dinner.\n"
     ]
    }
   ],
   "source": [
    "# List of people to invite to dinner\n",
    "guests = [\"Einstein\", \"Nikola Tesla\", \"Da Vinci\"]\n",
    "\n",
    "# Print invitation messages\n",
    "for guest in guests:\n",
    "    print(f\"Dear {guest}, you are cordially invited to dinner.\")\n"
   ]
  },
  {
   "cell_type": "markdown",
   "metadata": {},
   "source": [
    "## Exercise 3-5: Changing Guest List"
   ]
  },
  {
   "cell_type": "code",
   "execution_count": 50,
   "metadata": {},
   "outputs": [
    {
     "name": "stdout",
     "output_type": "stream",
     "text": [
      "Unfortunately, Nikola Tesla can't make it to dinner.\n",
      "Dear Einstein, you are still invited to dinner.\n",
      "Dear Alama Muhammad Iqbal, you are still invited to dinner.\n",
      "Dear Da Vinci, you are still invited to dinner.\n"
     ]
    }
   ],
   "source": [
    "# Notify about a guest who can't make it\n",
    "print(f\"Unfortunately, {guests[1]} can't make it to dinner.\")\n",
    "\n",
    "# Replace the unavailable guest with a new one\n",
    "guests[1] = \"Alama Muhammad Iqbal\"\n",
    "\n",
    "# Print new invitation messages\n",
    "for guest in guests:\n",
    "    print(f\"Dear {guest}, you are still invited to dinner.\")\n"
   ]
  },
  {
   "cell_type": "markdown",
   "metadata": {},
   "source": [
    "## Exercise 3-6: More Guests"
   ]
  },
  {
   "cell_type": "code",
   "execution_count": 51,
   "metadata": {},
   "outputs": [
    {
     "name": "stdout",
     "output_type": "stream",
     "text": [
      "Good news! We found a bigger table for dinner.\n",
      "Dear Newton, you are invited to dinner.\n",
      "Dear Einstein, you are invited to dinner.\n",
      "Dear Galileo, you are invited to dinner.\n",
      "Dear Alama Muhammad Iqbal, you are invited to dinner.\n",
      "Dear Da Vinci, you are invited to dinner.\n",
      "Dear Quaid e Azam Muhammad Ali Jinnanh, you are invited to dinner.\n"
     ]
    }
   ],
   "source": [
    "# Notify about a bigger table\n",
    "print(\"Good news! We found a bigger table for dinner.\")\n",
    "\n",
    "# Add more guests\n",
    "guests.insert(0, \"Newton\")\n",
    "guests.insert(2, \"Galileo\")\n",
    "guests.append(\"Quaid e Azam Muhammad Ali Jinnanh\")\n",
    "\n",
    "# Print updated invitation messages\n",
    "for guest in guests:\n",
    "    print(f\"Dear {guest}, you are invited to dinner.\")\n"
   ]
  },
  {
   "cell_type": "markdown",
   "metadata": {},
   "source": [
    "## Exercise 3-7: Shrinking Guest List"
   ]
  },
  {
   "cell_type": "code",
   "execution_count": 52,
   "metadata": {},
   "outputs": [
    {
     "name": "stdout",
     "output_type": "stream",
     "text": [
      "Unfortunately, we can only invite two people for dinner.\n",
      "Sorry, Quaid e Azam Muhammad Ali Jinnanh, we can't invite you to dinner.\n",
      "Sorry, Da Vinci, we can't invite you to dinner.\n",
      "Sorry, Alama Muhammad Iqbal, we can't invite you to dinner.\n",
      "Sorry, Galileo, we can't invite you to dinner.\n",
      "Dear Newton, you are still invited.\n",
      "Dear Einstein, you are still invited.\n",
      "Guest list is now empty: []\n"
     ]
    }
   ],
   "source": [
    "print(\"Unfortunately, we can only invite two people for dinner.\")\n",
    "\n",
    "# Remove guests until only two remain\n",
    "while len(guests) > 2:\n",
    "    removed_guest = guests.pop()\n",
    "    print(f\"Sorry, {removed_guest}, we can't invite you to dinner.\")\n",
    "\n",
    "# Final invitations\n",
    "for guest in guests:\n",
    "    print(f\"Dear {guest}, you are still invited.\")\n",
    "\n",
    "# Empty the list\n",
    "del guests[:]\n",
    "print(\"Guest list is now empty:\", guests)\n"
   ]
  },
  {
   "cell_type": "markdown",
   "metadata": {},
   "source": [
    "## Exercise 3-8: Seeing the World"
   ]
  },
  {
   "cell_type": "code",
   "execution_count": 53,
   "metadata": {},
   "outputs": [
    {
     "name": "stdout",
     "output_type": "stream",
     "text": [
      "Original list: ['Tokyo', 'Paris', 'New York', 'Cairo', 'Sydney']\n",
      "Alphabetical: ['Cairo', 'New York', 'Paris', 'Sydney', 'Tokyo']\n",
      "Reverse-alphabetical: ['Tokyo', 'Sydney', 'Paris', 'New York', 'Cairo']\n",
      "Original list again: ['Tokyo', 'Paris', 'New York', 'Cairo', 'Sydney']\n",
      "Reversed list: ['Sydney', 'Cairo', 'New York', 'Paris', 'Tokyo']\n",
      "Back to original: ['Tokyo', 'Paris', 'New York', 'Cairo', 'Sydney']\n",
      "Sorted list: ['Cairo', 'New York', 'Paris', 'Sydney', 'Tokyo']\n",
      "Reverse sorted list: ['Tokyo', 'Sydney', 'Paris', 'New York', 'Cairo']\n"
     ]
    }
   ],
   "source": [
    "# List of places to visit\n",
    "places = [\"Tokyo\", \"Paris\", \"New York\", \"Cairo\", \"Sydney\"]\n",
    "\n",
    "# Original order\n",
    "print(\"Original list:\", places)\n",
    "\n",
    "# Alphabetical order\n",
    "print(\"Alphabetical:\", sorted(places))\n",
    "\n",
    "# Reverse-alphabetical\n",
    "print(\"Reverse-alphabetical:\", sorted(places, reverse=True))\n",
    "\n",
    "# Original list again\n",
    "print(\"Original list again:\", places)\n",
    "\n",
    "# Reverse the list\n",
    "places.reverse()\n",
    "print(\"Reversed list:\", places)\n",
    "\n",
    "# Reverse back to original\n",
    "places.reverse()\n",
    "print(\"Back to original:\", places)\n",
    "\n",
    "# Sort the list alphabetically\n",
    "places.sort()\n",
    "print(\"Sorted list:\", places)\n",
    "\n",
    "# Sort in reverse-alphabetical order\n",
    "places.sort(reverse=True)\n",
    "print(\"Reverse sorted list:\", places)\n"
   ]
  },
  {
   "cell_type": "markdown",
   "metadata": {},
   "source": [
    "## Exercise 3-9: Dinner Guests"
   ]
  },
  {
   "cell_type": "code",
   "execution_count": 54,
   "metadata": {},
   "outputs": [
    {
     "name": "stdout",
     "output_type": "stream",
     "text": [
      "I'm inviting 0 people to dinner.\n"
     ]
    }
   ],
   "source": [
    "print(f\"I'm inviting {len(guests)} people to dinner.\")"
   ]
  },
  {
   "cell_type": "markdown",
   "metadata": {},
   "source": [
    "## Exercise 3-10: Every Function"
   ]
  },
  {
   "cell_type": "code",
   "execution_count": 55,
   "metadata": {},
   "outputs": [
    {
     "name": "stdout",
     "output_type": "stream",
     "text": [
      "Original list: ['Nile', 'Amazon', 'Yangtze', 'Mississippi']\n",
      "Sorted list: ['Amazon', 'Mississippi', 'Nile', 'Yangtze']\n",
      "Reversed list: ['Mississippi', 'Yangtze', 'Amazon', 'Nile']\n",
      "Appended list: ['Mississippi', 'Yangtze', 'Amazon', 'Nile', 'Ganges']\n",
      "Sorted in-place: ['Amazon', 'Ganges', 'Mississippi', 'Nile', 'Yangtze']\n"
     ]
    }
   ],
   "source": [
    "# A list of rivers\n",
    "rivers = [\"Nile\", \"Amazon\", \"Yangtze\", \"Mississippi\"]\n",
    "\n",
    "# Various list functions\n",
    "print(\"Original list:\", rivers)\n",
    "print(\"Sorted list:\", sorted(rivers))\n",
    "rivers.reverse()\n",
    "print(\"Reversed list:\", rivers)\n",
    "rivers.append(\"Ganges\")\n",
    "print(\"Appended list:\", rivers)\n",
    "rivers.sort()\n",
    "print(\"Sorted in-place:\", rivers)\n"
   ]
  },
  {
   "cell_type": "markdown",
   "metadata": {},
   "source": [
    "## Exercise 3-11: Intentional Error"
   ]
  },
  {
   "cell_type": "code",
   "execution_count": 56,
   "metadata": {},
   "outputs": [
    {
     "name": "stdout",
     "output_type": "stream",
     "text": [
      "IndexError: List index out of range.\n"
     ]
    }
   ],
   "source": [
    "# Intentional index error\n",
    "try:\n",
    "    print(rivers[10])  # This will cause an IndexError\n",
    "except IndexError:\n",
    "    print(\"IndexError: List index out of range.\")\n"
   ]
  }
 ],
 "metadata": {
  "kernelspec": {
   "display_name": "Python 3",
   "language": "python",
   "name": "python3"
  },
  "language_info": {
   "codemirror_mode": {
    "name": "ipython",
    "version": 3
   },
   "file_extension": ".py",
   "mimetype": "text/x-python",
   "name": "python",
   "nbconvert_exporter": "python",
   "pygments_lexer": "ipython3",
   "version": "3.10.12"
  }
 },
 "nbformat": 4,
 "nbformat_minor": 2
}
